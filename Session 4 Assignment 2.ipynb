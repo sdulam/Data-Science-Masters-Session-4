{
 "cells": [
  {
   "cell_type": "markdown",
   "metadata": {},
   "source": [
    "# Session-4 Assignment -2"
   ]
  },
  {
   "cell_type": "markdown",
   "metadata": {},
   "source": [
    "Problem Statement 1:\n",
    "Write a Python program using function concept that maps list of words into a list of integers representing the lengths of the corresponding words. Hint:If a list [ ab,cde,erty] is passed on to the python function output should come as [2,3,4] Here 2,3 and 4 are the lengths of the words in the list."
   ]
  },
  {
   "cell_type": "code",
   "execution_count": 1,
   "metadata": {},
   "outputs": [
    {
     "name": "stdout",
     "output_type": "stream",
     "text": [
      "Enter the words: Apple, Banana, cat, dog, Elephant, Fox\n",
      "[6, 7, 4, 4, 9, 3]\n"
     ]
    }
   ],
   "source": [
    "def get_word_length(word_list):\n",
    "    lst = []\n",
    "    if word_list:\n",
    "        for word in word_list:\n",
    "               lst.append(len(word))\n",
    "    return lst\n",
    "\n",
    "\n",
    "words_list = input('Enter the words: ').split()\n",
    "try:\n",
    "    result_List = get_word_length(words_list)\n",
    "    if result_List:\n",
    "        print(result_List)\n",
    "    else:\n",
    "        print(\"No word found. Please enter valid words.\") \n",
    "    \n",
    "except:\n",
    "    print(\"Enter valid value\")"
   ]
  },
  {
   "cell_type": "markdown",
   "metadata": {},
   "source": [
    "# Problem Statement 2:\n",
    "Write a Python function which takes a character (i.e. a string of length 1) and returns True if it is a vowel, False otherwise"
   ]
  },
  {
   "cell_type": "code",
   "execution_count": 6,
   "metadata": {},
   "outputs": [
    {
     "name": "stdout",
     "output_type": "stream",
     "text": [
      "Enter the words: i\n",
      "True\n"
     ]
    }
   ],
   "source": [
    "def isVowel(char):\n",
    "    vowels = ('a','e','i','o','u')\n",
    "    return char in vowels\n",
    "\n",
    "\n",
    "chr = input('Enter the words: ')\n",
    "try:\n",
    "    result = isVowel(chr)\n",
    "    print(result)\n",
    "    \n",
    "except:\n",
    "    print(\"Enter valid value\")"
   ]
  }
 ],
 "metadata": {
  "kernelspec": {
   "display_name": "Python 3",
   "language": "python",
   "name": "python3"
  },
  "language_info": {
   "codemirror_mode": {
    "name": "ipython",
    "version": 3
   },
   "file_extension": ".py",
   "mimetype": "text/x-python",
   "name": "python",
   "nbconvert_exporter": "python",
   "pygments_lexer": "ipython3",
   "version": "3.6.4"
  }
 },
 "nbformat": 4,
 "nbformat_minor": 2
}
